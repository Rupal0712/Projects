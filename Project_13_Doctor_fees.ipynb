{
 "cells": [
  {
   "cell_type": "code",
   "execution_count": 1,
   "metadata": {},
   "outputs": [],
   "source": [
    "import pandas as pd\n",
    "import numpy as np\n",
    "import seaborn as sns\n",
    "import matplotlib.pyplot as plt\n",
    "%matplotlib inline\n",
    "import warnings\n",
    "warnings.filterwarnings('ignore')"
   ]
  },
  {
   "cell_type": "code",
   "execution_count": 2,
   "metadata": {},
   "outputs": [
    {
     "data": {
      "text/html": [
       "<div>\n",
       "<style scoped>\n",
       "    .dataframe tbody tr th:only-of-type {\n",
       "        vertical-align: middle;\n",
       "    }\n",
       "\n",
       "    .dataframe tbody tr th {\n",
       "        vertical-align: top;\n",
       "    }\n",
       "\n",
       "    .dataframe thead th {\n",
       "        text-align: right;\n",
       "    }\n",
       "</style>\n",
       "<table border=\"1\" class=\"dataframe\">\n",
       "  <thead>\n",
       "    <tr style=\"text-align: right;\">\n",
       "      <th></th>\n",
       "      <th>Qualification</th>\n",
       "      <th>Experience</th>\n",
       "      <th>Rating</th>\n",
       "      <th>Place</th>\n",
       "      <th>Profile</th>\n",
       "      <th>Miscellaneous_Info</th>\n",
       "      <th>Fees</th>\n",
       "    </tr>\n",
       "  </thead>\n",
       "  <tbody>\n",
       "    <tr>\n",
       "      <th>0</th>\n",
       "      <td>BHMS, MD - Homeopathy</td>\n",
       "      <td>24 years experience</td>\n",
       "      <td>100%</td>\n",
       "      <td>Kakkanad, Ernakulam</td>\n",
       "      <td>Homeopath</td>\n",
       "      <td>100% 16 Feedback Kakkanad, Ernakulam</td>\n",
       "      <td>100</td>\n",
       "    </tr>\n",
       "    <tr>\n",
       "      <th>1</th>\n",
       "      <td>BAMS, MD - Ayurveda Medicine</td>\n",
       "      <td>12 years experience</td>\n",
       "      <td>98%</td>\n",
       "      <td>Whitefield, Bangalore</td>\n",
       "      <td>Ayurveda</td>\n",
       "      <td>98% 76 Feedback Whitefield, Bangalore</td>\n",
       "      <td>350</td>\n",
       "    </tr>\n",
       "    <tr>\n",
       "      <th>2</th>\n",
       "      <td>MBBS, MS - Otorhinolaryngology</td>\n",
       "      <td>9 years experience</td>\n",
       "      <td>NaN</td>\n",
       "      <td>Mathikere - BEL, Bangalore</td>\n",
       "      <td>ENT Specialist</td>\n",
       "      <td>NaN</td>\n",
       "      <td>300</td>\n",
       "    </tr>\n",
       "    <tr>\n",
       "      <th>3</th>\n",
       "      <td>BSc - Zoology, BAMS</td>\n",
       "      <td>12 years experience</td>\n",
       "      <td>NaN</td>\n",
       "      <td>Bannerghatta Road, Bangalore</td>\n",
       "      <td>Ayurveda</td>\n",
       "      <td>Bannerghatta Road, Bangalore ?250 Available on...</td>\n",
       "      <td>250</td>\n",
       "    </tr>\n",
       "    <tr>\n",
       "      <th>4</th>\n",
       "      <td>BAMS</td>\n",
       "      <td>20 years experience</td>\n",
       "      <td>100%</td>\n",
       "      <td>Keelkattalai, Chennai</td>\n",
       "      <td>Ayurveda</td>\n",
       "      <td>100% 4 Feedback Keelkattalai, Chennai</td>\n",
       "      <td>250</td>\n",
       "    </tr>\n",
       "  </tbody>\n",
       "</table>\n",
       "</div>"
      ],
      "text/plain": [
       "                    Qualification           Experience Rating  \\\n",
       "0           BHMS, MD - Homeopathy  24 years experience   100%   \n",
       "1    BAMS, MD - Ayurveda Medicine  12 years experience    98%   \n",
       "2  MBBS, MS - Otorhinolaryngology   9 years experience    NaN   \n",
       "3             BSc - Zoology, BAMS  12 years experience    NaN   \n",
       "4                            BAMS  20 years experience   100%   \n",
       "\n",
       "                          Place         Profile  \\\n",
       "0           Kakkanad, Ernakulam       Homeopath   \n",
       "1         Whitefield, Bangalore        Ayurveda   \n",
       "2    Mathikere - BEL, Bangalore  ENT Specialist   \n",
       "3  Bannerghatta Road, Bangalore        Ayurveda   \n",
       "4         Keelkattalai, Chennai        Ayurveda   \n",
       "\n",
       "                                  Miscellaneous_Info  Fees  \n",
       "0               100% 16 Feedback Kakkanad, Ernakulam   100  \n",
       "1              98% 76 Feedback Whitefield, Bangalore   350  \n",
       "2                                                NaN   300  \n",
       "3  Bannerghatta Road, Bangalore ?250 Available on...   250  \n",
       "4              100% 4 Feedback Keelkattalai, Chennai   250  "
      ]
     },
     "execution_count": 2,
     "metadata": {},
     "output_type": "execute_result"
    }
   ],
   "source": [
    "df = pd.read_csv(\"doctorfees_train.csv\")\n",
    "df.head()"
   ]
  },
  {
   "cell_type": "code",
   "execution_count": 3,
   "metadata": {},
   "outputs": [
    {
     "data": {
      "text/plain": [
       "(5961, 7)"
      ]
     },
     "execution_count": 3,
     "metadata": {},
     "output_type": "execute_result"
    }
   ],
   "source": [
    "df.shape"
   ]
  },
  {
   "cell_type": "code",
   "execution_count": 4,
   "metadata": {},
   "outputs": [
    {
     "name": "stdout",
     "output_type": "stream",
     "text": [
      "<class 'pandas.core.frame.DataFrame'>\n",
      "RangeIndex: 5961 entries, 0 to 5960\n",
      "Data columns (total 7 columns):\n",
      " #   Column              Non-Null Count  Dtype \n",
      "---  ------              --------------  ----- \n",
      " 0   Qualification       5961 non-null   object\n",
      " 1   Experience          5961 non-null   object\n",
      " 2   Rating              2659 non-null   object\n",
      " 3   Place               5936 non-null   object\n",
      " 4   Profile             5961 non-null   object\n",
      " 5   Miscellaneous_Info  3341 non-null   object\n",
      " 6   Fees                5961 non-null   int64 \n",
      "dtypes: int64(1), object(6)\n",
      "memory usage: 326.1+ KB\n"
     ]
    }
   ],
   "source": [
    "df.info()"
   ]
  },
  {
   "cell_type": "code",
   "execution_count": 5,
   "metadata": {},
   "outputs": [],
   "source": [
    "df['Experience'] = df['Experience'].str.replace('years experience','').astype(int)"
   ]
  },
  {
   "cell_type": "code",
   "execution_count": 6,
   "metadata": {},
   "outputs": [
    {
     "data": {
      "text/plain": [
       "Text(0.5, 1.0, 'Years of Experience-Distplot')"
      ]
     },
     "execution_count": 6,
     "metadata": {},
     "output_type": "execute_result"
    },
    {
     "data": {
      "image/png": "[encoded data removed]",
      "text/plain": [
       "<Figure size 1008x648 with 1 Axes>"
      ]
     },
     "metadata": {
      "needs_background": "light"
     },
     "output_type": "display_data"
    }
   ],
   "source": [
    "plt.figure(figsize=(14,9))\n",
    "sns.distplot(df[\"Experience\"],kde=False)\n",
    "plt.xlabel('Experience (Years)')\n",
    "plt.ylabel('Number of Doctors')\n",
    "plt.title('Years of Experience-Distplot')"
   ]
  },
  {
   "cell_type": "code",
   "execution_count": 7,
   "metadata": {},
   "outputs": [
    {
     "data": {
      "text/plain": [
       "BDS                                                                                                                                                                     488\n",
       "BHMS                                                                                                                                                                    477\n",
       "BAMS                                                                                                                                                                    471\n",
       "MBBS                                                                                                                                                                    334\n",
       "MBBS, MS - ENT                                                                                                                                                          220\n",
       "                                                                                                                                                                       ... \n",
       "MBBS, Fellowship In Anti-Aging And Aesthetic Medicine, Diploma in Practical Dermatology, Fellow Hair Transplant Surgery, Fellowship in Lasers & Advanced Dermatology      1\n",
       "BDS, MDS - Periodontics, MS - Implantolgy, Implantology ICOI(USA)                                                                                                         1\n",
       "MBBS, DNB - Radiation Oncology                                                                                                                                            1\n",
       "POST GRADUATE IN HOMOEOPATHY, BHMS                                                                                                                                        1\n",
       "BHMS, Doctor of Medicine                                                                                                                                                  1\n",
       "Name: Qualification, Length: 1420, dtype: int64"
      ]
     },
     "execution_count": 7,
     "metadata": {},
     "output_type": "execute_result"
    }
   ],
   "source": [
    "df['Qualification'].value_counts()"
   ]
  },
  {
   "cell_type": "code",
   "execution_count": 8,
   "metadata": {},
   "outputs": [],
   "source": [
    "#cleaning the columns to reduce entries\n",
    "import re\n",
    "def clean_text(text):\n",
    "    text = str(text).lower()\n",
    "    text = re.sub(r'[^a-z]', ' ', text)\n",
    "    text = re.sub(r'\\s+', ' ', text)\n",
    "    return text"
   ]
  },
  {
   "cell_type": "code",
   "execution_count": 9,
   "metadata": {},
   "outputs": [],
   "source": [
    "df['Qualification'] = df['Qualification'].apply(clean_text)"
   ]
  },
  {
   "cell_type": "code",
   "execution_count": 10,
   "metadata": {},
   "outputs": [
    {
     "data": {
      "text/plain": [
       "bds                                                                             488\n",
       "bhms                                                                            477\n",
       "bams                                                                            471\n",
       "mbbs                                                                            334\n",
       "mbbs ms ent                                                                     220\n",
       "                                                                               ... \n",
       "mbbs dnb family medicine ccedm ccmtd ccdr                                         1\n",
       "mbbs md dermatology dvd fellowship in pediatric dermatology                       1\n",
       "bds mds periodontics fellow of international congress of oral implantologist      1\n",
       "pg diploma in child health mbbs                                                   1\n",
       "mbbs md dermatology diploma in venereology diploma in dermatology venerology      1\n",
       "Name: Qualification, Length: 1420, dtype: int64"
      ]
     },
     "execution_count": 10,
     "metadata": {},
     "output_type": "execute_result"
    }
   ],
   "source": [
    "df['Qualification'].value_counts()"
   ]
  },
  {
   "cell_type": "code",
   "execution_count": 11,
   "metadata": {},
   "outputs": [
    {
     "data": {
      "text/plain": [
       "HSR Layout, Bangalore            75\n",
       "Andheri West, Mumbai             70\n",
       "Dwarka, Delhi                    67\n",
       "Banjara Hills, Hyderabad         64\n",
       "Mulund West, Mumbai              54\n",
       "                                 ..\n",
       "West Of Chord Road, Bangalore     1\n",
       "Siddapura, Bangalore              1\n",
       "Vaduthala, Ernakulam              1\n",
       "Lodhi Colony, Delhi               1\n",
       "Rani Khera, Delhi                 1\n",
       "Name: Place, Length: 877, dtype: int64"
      ]
     },
     "execution_count": 11,
     "metadata": {},
     "output_type": "execute_result"
    }
   ],
   "source": [
    "df['Place'].value_counts()"
   ]
  },
  {
   "cell_type": "code",
   "execution_count": 12,
   "metadata": {},
   "outputs": [],
   "source": [
    "def clean_place(text):\n",
    "    text = str(text).lower()\n",
    "    text = re.sub(r'[^a-z0-9]', ' ', text)\n",
    "    text = re.sub(r'\\s+', ' ', text)\n",
    "    return text"
   ]
  },
  {
   "cell_type": "code",
   "execution_count": 13,
   "metadata": {},
   "outputs": [
    {
     "data": {
      "text/plain": [
       "Qualification            0\n",
       "Experience               0\n",
       "Rating                3302\n",
       "Place                   25\n",
       "Profile                  0\n",
       "Miscellaneous_Info    2620\n",
       "Fees                     0\n",
       "dtype: int64"
      ]
     },
     "execution_count": 13,
     "metadata": {},
     "output_type": "execute_result"
    }
   ],
   "source": [
    "df.isnull().sum()"
   ]
  },
  {
   "cell_type": "code",
   "execution_count": 14,
   "metadata": {},
   "outputs": [],
   "source": [
    "df['Place'].fillna('missing', inplace=True)"
   ]
  },
  {
   "cell_type": "code",
   "execution_count": 15,
   "metadata": {},
   "outputs": [],
   "source": [
    "df['Place'] = df['Place'].apply(clean_place)"
   ]
  },
  {
   "cell_type": "code",
   "execution_count": 16,
   "metadata": {},
   "outputs": [
    {
     "data": {
      "text/plain": [
       "hsr layout bangalore            75\n",
       "andheri west mumbai             70\n",
       "dwarka delhi                    67\n",
       "banjara hills hyderabad         64\n",
       "mulund west mumbai              54\n",
       "                                ..\n",
       "sg palya kormangla bangalore     1\n",
       "sukhdev vihar delhi              1\n",
       "raj nagar 2 delhi                1\n",
       "kattupakkam chennai              1\n",
       "shankar vihar delhi              1\n",
       "Name: Place, Length: 877, dtype: int64"
      ]
     },
     "execution_count": 16,
     "metadata": {},
     "output_type": "execute_result"
    }
   ],
   "source": [
    "df['Place'].value_counts()"
   ]
  },
  {
   "cell_type": "code",
   "execution_count": 17,
   "metadata": {},
   "outputs": [
    {
     "data": {
      "text/plain": [
       "100%    684\n",
       "98%     290\n",
       "99%     259\n",
       "97%     241\n",
       "96%     220\n",
       "95%     178\n",
       "94%     115\n",
       "93%     109\n",
       "90%      66\n",
       "92%      66\n",
       "91%      60\n",
       "89%      42\n",
       "88%      41\n",
       "85%      27\n",
       "82%      23\n",
       "83%      21\n",
       "86%      21\n",
       "80%      19\n",
       "77%      16\n",
       "87%      14\n",
       "79%      13\n",
       "84%      13\n",
       "67%      12\n",
       "81%      12\n",
       "76%       9\n",
       "71%       9\n",
       "75%       8\n",
       "73%       8\n",
       "74%       7\n",
       "60%       7\n",
       "78%       6\n",
       "68%       5\n",
       "56%       5\n",
       "70%       4\n",
       "69%       4\n",
       "57%       3\n",
       "72%       3\n",
       "62%       2\n",
       "63%       2\n",
       "33%       2\n",
       "55%       2\n",
       "64%       2\n",
       "48%       1\n",
       "45%       1\n",
       "47%       1\n",
       "36%       1\n",
       "65%       1\n",
       "40%       1\n",
       "58%       1\n",
       "53%       1\n",
       "7%        1\n",
       "Name: Rating, dtype: int64"
      ]
     },
     "execution_count": 17,
     "metadata": {},
     "output_type": "execute_result"
    }
   ],
   "source": [
    "df['Rating'].value_counts()"
   ]
  },
  {
   "cell_type": "code",
   "execution_count": 18,
   "metadata": {},
   "outputs": [],
   "source": [
    "df['Rating'].fillna('0%', inplace=True)"
   ]
  },
  {
   "cell_type": "code",
   "execution_count": 19,
   "metadata": {},
   "outputs": [],
   "source": [
    "def clean_rating(text):\n",
    "    text = re.sub(r'%', '', str(text))\n",
    "    return text"
   ]
  },
  {
   "cell_type": "code",
   "execution_count": 20,
   "metadata": {},
   "outputs": [],
   "source": [
    "df['Rating'] = df['Rating'].apply(clean_rating)\n",
    "df['Rating'] = df['Rating'].astype(int)"
   ]
  },
  {
   "cell_type": "code",
   "execution_count": 21,
   "metadata": {},
   "outputs": [
    {
     "data": {
      "text/plain": [
       "Text(0.5, 1.0, 'Rating-Distplot')"
      ]
     },
     "execution_count": 21,
     "metadata": {},
     "output_type": "execute_result"
    },
    {
     "data": {
      "image/png": "[encoded data removed]",
      "text/plain": [
       "<Figure size 720x576 with 1 Axes>"
      ]
     },
     "metadata": {
      "needs_background": "light"
     },
     "output_type": "display_data"
    }
   ],
   "source": [
    "plt.figure(figsize=(10,8))\n",
    "sns.distplot(df[\"Rating\"],kde=False)\n",
    "plt.xlabel('Rating (%)')\n",
    "plt.ylabel('Number of Doctors')\n",
    "plt.title('Rating-Distplot')"
   ]
  },
  {
   "cell_type": "code",
   "execution_count": 22,
   "metadata": {},
   "outputs": [],
   "source": [
    "df['Miscellaneous_Info'].fillna('missing', inplace=True)"
   ]
  },
  {
   "cell_type": "code",
   "execution_count": 23,
   "metadata": {},
   "outputs": [
    {
     "data": {
      "text/plain": [
       "missing                                                               2620\n",
       "Acrylic Partial Denture Crowns and Bridges Fixing Artificial Teeth      40\n",
       "Tooth Extraction Dental Fillings Scaling / Polishing                    12\n",
       "Dental Fillings Zirconia Crowns Dental Implant Fixing                   12\n",
       "Skin Allergy Treatment Skin Allergies Dermabrasion                       9\n",
       "                                                                      ... \n",
       "4 Feedback Goregaon West, Mumbai ?700                                    1\n",
       "97% 7 Feedback Vijayanagar, Bangalore                                    1\n",
       "JP Nagar 5 Phase, Bangalore Free Consultation Visits Today               1\n",
       "90% 6 Feedback Yelahanka, Bangalore                                      1\n",
       "Dental Crowns Dental X-Ray Dental prophylaxis                            1\n",
       "Name: Miscellaneous_Info, Length: 2999, dtype: int64"
      ]
     },
     "execution_count": 23,
     "metadata": {},
     "output_type": "execute_result"
    }
   ],
   "source": [
    "df['Miscellaneous_Info'].value_counts()"
   ]
  },
  {
   "cell_type": "code",
   "execution_count": 24,
   "metadata": {},
   "outputs": [],
   "source": [
    "def get_feedback(feedback):\n",
    "    feedback = re.findall(r'\\d+ Feedback', str(feedback))\n",
    "    if feedback == []:\n",
    "        feedback = '0 Feedback'\n",
    "        return feedback\n",
    "    else:\n",
    "        return feedback[0]"
   ]
  },
  {
   "cell_type": "code",
   "execution_count": 25,
   "metadata": {},
   "outputs": [],
   "source": [
    "df['Feedback'] = df['Miscellaneous_Info'].apply(get_feedback)\n",
    "df['Feedback'] = df['Feedback'].str.replace(' Feedback','')\n",
    "df['Feedback'] = df['Feedback'].astype(int)"
   ]
  },
  {
   "cell_type": "code",
   "execution_count": 26,
   "metadata": {},
   "outputs": [
    {
     "data": {
      "text/plain": [
       "Qualification         0\n",
       "Experience            0\n",
       "Rating                0\n",
       "Place                 0\n",
       "Profile               0\n",
       "Miscellaneous_Info    0\n",
       "Fees                  0\n",
       "Feedback              0\n",
       "dtype: int64"
      ]
     },
     "execution_count": 26,
     "metadata": {},
     "output_type": "execute_result"
    }
   ],
   "source": [
    "df.isnull().sum()"
   ]
  },
  {
   "cell_type": "code",
   "execution_count": 27,
   "metadata": {},
   "outputs": [
    {
     "data": {
      "text/plain": [
       "Text(0.5, 1.0, 'Feedback-Distplot')"
      ]
     },
     "execution_count": 27,
     "metadata": {},
     "output_type": "execute_result"
    },
    {
     "data": {
      "image/png": "[encoded data removed]",
      "text/plain": [
       "<Figure size 720x576 with 1 Axes>"
      ]
     },
     "metadata": {
      "needs_background": "light"
     },
     "output_type": "display_data"
    }
   ],
   "source": [
    "plt.figure(figsize=(10,8))\n",
    "sns.distplot(df[\"Feedback\"],kde=False)\n",
    "plt.xlabel('Feedback')\n",
    "plt.ylabel('Number of Doctors')\n",
    "plt.title('Feedback-Distplot')"
   ]
  },
  {
   "cell_type": "code",
   "execution_count": 30,
   "metadata": {},
   "outputs": [],
   "source": [
    "def clean_misc(text):\n",
    "    text = str(text).lower()\n",
    "    text = re.sub(r'[^a-z0-9]', ' ', text)\n",
    "    text = re.sub(r'\\s+', ' ', text)\n",
    "    return text"
   ]
  },
  {
   "cell_type": "code",
   "execution_count": 31,
   "metadata": {},
   "outputs": [],
   "source": [
    "df['Miscellaneous_Info'] = df['Miscellaneous_Info'].apply(clean_misc)"
   ]
  },
  {
   "cell_type": "code",
   "execution_count": 32,
   "metadata": {},
   "outputs": [],
   "source": [
    "df['Miscellaneous_Info'] = df['Miscellaneous_Info'].apply(clean_misc)"
   ]
  },
  {
   "cell_type": "code",
   "execution_count": 33,
   "metadata": {},
   "outputs": [],
   "source": [
    "df = pd.get_dummies(df, columns=['Profile'])"
   ]
  },
  {
   "cell_type": "code",
   "execution_count": 34,
   "metadata": {},
   "outputs": [
    {
     "data": {
      "text/html": [
       "<div>\n",
       "<style scoped>\n",
       "    .dataframe tbody tr th:only-of-type {\n",
       "        vertical-align: middle;\n",
       "    }\n",
       "\n",
       "    .dataframe tbody tr th {\n",
       "        vertical-align: top;\n",
       "    }\n",
       "\n",
       "    .dataframe thead th {\n",
       "        text-align: right;\n",
       "    }\n",
       "</style>\n",
       "<table border=\"1\" class=\"dataframe\">\n",
       "  <thead>\n",
       "    <tr style=\"text-align: right;\">\n",
       "      <th></th>\n",
       "      <th>Qualification</th>\n",
       "      <th>Experience</th>\n",
       "      <th>Rating</th>\n",
       "      <th>Place</th>\n",
       "      <th>Miscellaneous_Info</th>\n",
       "      <th>Fees</th>\n",
       "      <th>Feedback</th>\n",
       "      <th>Misc_Fees</th>\n",
       "      <th>Profile_Ayurveda</th>\n",
       "      <th>Profile_Dentist</th>\n",
       "      <th>Profile_Dermatologists</th>\n",
       "      <th>Profile_ENT Specialist</th>\n",
       "      <th>Profile_General Medicine</th>\n",
       "      <th>Profile_Homeopath</th>\n",
       "    </tr>\n",
       "  </thead>\n",
       "  <tbody>\n",
       "    <tr>\n",
       "      <th>0</th>\n",
       "      <td>bhms md homeopathy</td>\n",
       "      <td>24</td>\n",
       "      <td>100</td>\n",
       "      <td>kakkanad ernakulam</td>\n",
       "      <td>100 16 feedback kakkanad ernakulam</td>\n",
       "      <td>100</td>\n",
       "      <td>16</td>\n",
       "      <td>0</td>\n",
       "      <td>0</td>\n",
       "      <td>0</td>\n",
       "      <td>0</td>\n",
       "      <td>0</td>\n",
       "      <td>0</td>\n",
       "      <td>1</td>\n",
       "    </tr>\n",
       "    <tr>\n",
       "      <th>1</th>\n",
       "      <td>bams md ayurveda medicine</td>\n",
       "      <td>12</td>\n",
       "      <td>98</td>\n",
       "      <td>whitefield bangalore</td>\n",
       "      <td>98 76 feedback whitefield bangalore</td>\n",
       "      <td>350</td>\n",
       "      <td>76</td>\n",
       "      <td>0</td>\n",
       "      <td>1</td>\n",
       "      <td>0</td>\n",
       "      <td>0</td>\n",
       "      <td>0</td>\n",
       "      <td>0</td>\n",
       "      <td>0</td>\n",
       "    </tr>\n",
       "    <tr>\n",
       "      <th>2</th>\n",
       "      <td>mbbs ms otorhinolaryngology</td>\n",
       "      <td>9</td>\n",
       "      <td>0</td>\n",
       "      <td>mathikere bel bangalore</td>\n",
       "      <td>missing</td>\n",
       "      <td>300</td>\n",
       "      <td>0</td>\n",
       "      <td>0</td>\n",
       "      <td>0</td>\n",
       "      <td>0</td>\n",
       "      <td>0</td>\n",
       "      <td>1</td>\n",
       "      <td>0</td>\n",
       "      <td>0</td>\n",
       "    </tr>\n",
       "    <tr>\n",
       "      <th>3</th>\n",
       "      <td>bsc zoology bams</td>\n",
       "      <td>12</td>\n",
       "      <td>0</td>\n",
       "      <td>bannerghatta road bangalore</td>\n",
       "      <td>bannerghatta road bangalore 250 available on s...</td>\n",
       "      <td>250</td>\n",
       "      <td>0</td>\n",
       "      <td>0</td>\n",
       "      <td>1</td>\n",
       "      <td>0</td>\n",
       "      <td>0</td>\n",
       "      <td>0</td>\n",
       "      <td>0</td>\n",
       "      <td>0</td>\n",
       "    </tr>\n",
       "    <tr>\n",
       "      <th>4</th>\n",
       "      <td>bams</td>\n",
       "      <td>20</td>\n",
       "      <td>100</td>\n",
       "      <td>keelkattalai chennai</td>\n",
       "      <td>100 4 feedback keelkattalai chennai</td>\n",
       "      <td>250</td>\n",
       "      <td>4</td>\n",
       "      <td>0</td>\n",
       "      <td>1</td>\n",
       "      <td>0</td>\n",
       "      <td>0</td>\n",
       "      <td>0</td>\n",
       "      <td>0</td>\n",
       "      <td>0</td>\n",
       "    </tr>\n",
       "  </tbody>\n",
       "</table>\n",
       "</div>"
      ],
      "text/plain": [
       "                 Qualification  Experience  Rating  \\\n",
       "0           bhms md homeopathy          24     100   \n",
       "1    bams md ayurveda medicine          12      98   \n",
       "2  mbbs ms otorhinolaryngology           9       0   \n",
       "3             bsc zoology bams          12       0   \n",
       "4                         bams          20     100   \n",
       "\n",
       "                         Place  \\\n",
       "0           kakkanad ernakulam   \n",
       "1         whitefield bangalore   \n",
       "2      mathikere bel bangalore   \n",
       "3  bannerghatta road bangalore   \n",
       "4         keelkattalai chennai   \n",
       "\n",
       "                                  Miscellaneous_Info  Fees  Feedback  \\\n",
       "0                 100 16 feedback kakkanad ernakulam   100        16   \n",
       "1                98 76 feedback whitefield bangalore   350        76   \n",
       "2                                            missing   300         0   \n",
       "3  bannerghatta road bangalore 250 available on s...   250         0   \n",
       "4                100 4 feedback keelkattalai chennai   250         4   \n",
       "\n",
       "   Misc_Fees  Profile_Ayurveda  Profile_Dentist  Profile_Dermatologists  \\\n",
       "0          0                 0                0                       0   \n",
       "1          0                 1                0                       0   \n",
       "2          0                 0                0                       0   \n",
       "3          0                 1                0                       0   \n",
       "4          0                 1                0                       0   \n",
       "\n",
       "   Profile_ENT Specialist  Profile_General Medicine  Profile_Homeopath  \n",
       "0                       0                         0                  1  \n",
       "1                       0                         0                  0  \n",
       "2                       1                         0                  0  \n",
       "3                       0                         0                  0  \n",
       "4                       0                         0                  0  "
      ]
     },
     "execution_count": 34,
     "metadata": {},
     "output_type": "execute_result"
    }
   ],
   "source": [
    "df.head()"
   ]
  },
  {
   "cell_type": "code",
   "execution_count": 35,
   "metadata": {},
   "outputs": [],
   "source": [
    "X = df.drop(labels=['Fees'], axis=1)\n",
    "y = df['Fees'].values"
   ]
  },
  {
   "cell_type": "code",
   "execution_count": 36,
   "metadata": {},
   "outputs": [],
   "source": [
    "from sklearn.model_selection import train_test_split\n",
    "X_train, X_cv, y_train, y_cv = train_test_split(X, y, test_size=0.25, random_state=1)"
   ]
  },
  {
   "cell_type": "code",
   "execution_count": 37,
   "metadata": {},
   "outputs": [
    {
     "data": {
      "text/plain": [
       "((4470, 13), (4470,), (1491, 13), (1491,))"
      ]
     },
     "execution_count": 37,
     "metadata": {},
     "output_type": "execute_result"
    }
   ],
   "source": [
    "X_train.shape, y_train.shape, X_cv.shape, y_cv.shape"
   ]
  },
  {
   "cell_type": "code",
   "execution_count": 38,
   "metadata": {},
   "outputs": [
    {
     "data": {
      "text/plain": [
       "Index(['Qualification', 'Experience', 'Rating', 'Place', 'Miscellaneous_Info',\n",
       "       'Feedback', 'Misc_Fees', 'Profile_Ayurveda', 'Profile_Dentist',\n",
       "       'Profile_Dermatologists', 'Profile_ENT Specialist',\n",
       "       'Profile_General Medicine', 'Profile_Homeopath'],\n",
       "      dtype='object')"
      ]
     },
     "execution_count": 38,
     "metadata": {},
     "output_type": "execute_result"
    }
   ],
   "source": [
    "X_train.columns"
   ]
  },
  {
   "cell_type": "code",
   "execution_count": 39,
   "metadata": {},
   "outputs": [],
   "source": [
    "X_train_qual = X_train['Qualification']\n",
    "X_cv_qual = X_cv['Qualification']\n",
    "\n",
    "X_train_place = X_train['Place']\n",
    "X_cv_place = X_cv['Place']\n",
    "\n",
    "X_train_misc = X_train['Miscellaneous_Info']\n",
    "X_cv_misc = X_cv['Miscellaneous_Info']"
   ]
  },
  {
   "cell_type": "code",
   "execution_count": 40,
   "metadata": {},
   "outputs": [],
   "source": [
    "#term frequency - Tf\n",
    "#InverseDocumentFrequency - IDF\n",
    "#vectorizerr - TFidVectorize\n",
    "from sklearn.feature_extraction.text import TfidfVectorizer\n",
    "tf1 = TfidfVectorizer(ngram_range=(1,2), binary=True, token_pattern=r'\\w{3,}')\n",
    "X_train_qual = tf1.fit_transform(X_train_qual)\n",
    "X_cv_qual = tf1.transform(X_cv_qual)\n",
    "\n",
    "tf2 = TfidfVectorizer()\n",
    "X_train_place = tf2.fit_transform(X_train_place)\n",
    "X_cv_place = tf2.transform(X_cv_place)\n",
    "\n",
    "tf3 = TfidfVectorizer(token_pattern=r'\\w{1,}', ngram_range=(1,2))\n",
    "X_train_misc = tf3.fit_transform(X_train_misc)\n",
    "X_cv_misc = tf3.transform(X_cv_misc)"
   ]
  },
  {
   "cell_type": "code",
   "execution_count": 41,
   "metadata": {},
   "outputs": [],
   "source": [
    "X_train_exp = np.array(X_train['Experience']).reshape(-1,1)\n",
    "X_cv_exp = np.array(X_cv['Experience']).reshape(-1,1)\n",
    "\n",
    "X_train_feedback = np.array(X_train['Feedback']).reshape(-1,1)\n",
    "X_cv_feedback = np.array(X_cv['Feedback']).reshape(-1,1)\n",
    "\n",
    "X_train_rating = np.array(X_train['Rating']).reshape(-1,1)\n",
    "X_cv_rating = np.array(X_cv['Rating']).reshape(-1,1)\n",
    "\n",
    "cols = ['Profile_Dentist', 'Profile_Dermatologists', 'Profile_ENT Specialist', 'Profile_General Medicine',\n",
    "       'Profile_Homeopath']\n",
    "X_train_prof = X_train[cols]\n",
    "X_cv_prof = X_cv[cols]\n",
    "\n",
    "X_train_miscfees = np.array(X_train['Misc_Fees']).reshape(-1,1)\n",
    "X_cv_miscfees = np.array(X_cv['Misc_Fees']).reshape(-1,1)"
   ]
  },
  {
   "cell_type": "code",
   "execution_count": 42,
   "metadata": {},
   "outputs": [],
   "source": [
    "from math import sqrt \n",
    "from sklearn.metrics import mean_squared_log_error, mean_squared_error,r2_score,mean_absolute_error"
   ]
  },
  {
   "cell_type": "code",
   "execution_count": 43,
   "metadata": {},
   "outputs": [],
   "source": [
    "from scipy.sparse import hstack\n",
    "merged_train = hstack((X_train_exp, X_train_qual, X_train_prof, X_train_place, X_train_rating, X_train_misc, X_train_miscfees))\n",
    "merged_cv  = hstack((X_cv_exp, X_cv_qual, X_cv_prof, X_cv_place, X_cv_rating, X_cv_misc, X_cv_miscfees))"
   ]
  },
  {
   "cell_type": "code",
   "execution_count": 44,
   "metadata": {},
   "outputs": [
    {
     "data": {
      "text/plain": [
       "((4470, 8600), (1491, 8600))"
      ]
     },
     "execution_count": 44,
     "metadata": {},
     "output_type": "execute_result"
    }
   ],
   "source": [
    "merged_train.shape, merged_cv.shape"
   ]
  },
  {
   "cell_type": "code",
   "execution_count": 45,
   "metadata": {},
   "outputs": [],
   "source": [
    "from sklearn.linear_model import Ridge,Lasso,LinearRegression\n",
    "from sklearn.neighbors import KNeighborsRegressor\n",
    "from sklearn.svm import SVR\n",
    "from sklearn.tree import DecisionTreeRegressor\n",
    "from sklearn.ensemble import RandomForestRegressor\n",
    "from sklearn.ensemble import AdaBoostRegressor\n",
    "from sklearn.ensemble import GradientBoostingRegressor"
   ]
  },
  {
   "cell_type": "code",
   "execution_count": 46,
   "metadata": {},
   "outputs": [],
   "source": [
    "LR = LinearRegression()\n",
    "RR = Ridge()\n",
    "LSR = Lasso()\n",
    "KNR = KNeighborsRegressor()\n",
    "SV = SVR()\n",
    "DTC = DecisionTreeRegressor()\n",
    "RFC = RandomForestRegressor()\n",
    "ABC = AdaBoostRegressor()\n",
    "GBC = GradientBoostingRegressor()"
   ]
  },
  {
   "cell_type": "code",
   "execution_count": 47,
   "metadata": {},
   "outputs": [],
   "source": [
    "models = []\n",
    "models.append((\"LinearRegression\", LR))\n",
    "models.append((\"Ridge\", RR))\n",
    "models.append((\"Lasso\", LSR))\n",
    "models.append((\"KNeighborsRegressor\", KNR))\n",
    "models.append((\"SVR\", SV))\n",
    "models.append((\"DecisionTreeRegressor\", DTC))\n",
    "models.append((\"RandomForestRegressor\", RFC))\n",
    "models.append((\"AdaBoostRegressor\", ABC))\n",
    "models.append((\"GradientBoostingRegressor\", GBC))"
   ]
  },
  {
   "cell_type": "code",
   "execution_count": 48,
   "metadata": {},
   "outputs": [],
   "source": [
    "from sklearn.model_selection import cross_val_score\n",
    "from sklearn.model_selection import KFold\n",
    "kf = KFold(n_splits=4, random_state=91, shuffle=True)"
   ]
  },
  {
   "cell_type": "code",
   "execution_count": 49,
   "metadata": {},
   "outputs": [
    {
     "name": "stdout",
     "output_type": "stream",
     "text": [
      "***************** LinearRegression ******************\n",
      "\n",
      "LinearRegression(copy_X=True, fit_intercept=True, n_jobs=None, normalize=False)\n",
      "\n",
      "\n",
      "R2 Score =  -5.206012293412312\n",
      "\n",
      "\n",
      "Cross val score =  nan\n",
      "\n",
      "\n",
      "Mean Squared error\n",
      " 223258.44450314503\n",
      "\n",
      "\n",
      "Mean absolute error \n",
      "315.1674967977027\n",
      "\n",
      "\n",
      "\n",
      "***************** Ridge ******************\n",
      "\n",
      "Ridge(alpha=1.0, copy_X=True, fit_intercept=True, max_iter=None,\n",
      "      normalize=False, random_state=None, solver='auto', tol=0.001)\n",
      "\n",
      "\n",
      "R2 Score =  0.21138183968274815\n",
      "\n",
      "\n",
      "Cross val score =  nan\n",
      "\n",
      "\n",
      "Mean Squared error\n",
      " 28370.176444261222\n",
      "\n",
      "\n",
      "Mean absolute error \n",
      "127.94226021680122\n",
      "\n",
      "\n",
      "\n",
      "***************** Lasso ******************\n",
      "\n",
      "Lasso(alpha=1.0, copy_X=True, fit_intercept=True, max_iter=1000,\n",
      "      normalize=False, positive=False, precompute=False, random_state=None,\n",
      "      selection='cyclic', tol=0.0001, warm_start=False)\n",
      "\n",
      "\n",
      "R2 Score =  0.16917923720983952\n",
      "\n",
      "\n",
      "Cross val score =  nan\n",
      "\n",
      "\n",
      "Mean Squared error\n",
      " 29888.3957027193\n",
      "\n",
      "\n",
      "Mean absolute error \n",
      "136.57906088685914\n",
      "\n",
      "\n",
      "\n",
      "***************** KNeighborsRegressor ******************\n",
      "\n",
      "KNeighborsRegressor(algorithm='auto', leaf_size=30, metric='minkowski',\n",
      "                    metric_params=None, n_jobs=None, n_neighbors=5, p=2,\n",
      "                    weights='uniform')\n",
      "\n",
      "\n",
      "R2 Score =  0.06332134978669557\n",
      "\n",
      "\n",
      "Cross val score =  nan\n",
      "\n",
      "\n",
      "Mean Squared error\n",
      " 33696.5846277666\n",
      "\n",
      "\n",
      "Mean absolute error \n",
      "143.0747149564051\n",
      "\n",
      "\n",
      "\n",
      "***************** SVR ******************\n",
      "\n",
      "SVR(C=1.0, cache_size=200, coef0=0.0, degree=3, epsilon=0.1, gamma='scale',\n",
      "    kernel='rbf', max_iter=-1, shrinking=True, tol=0.001, verbose=False)\n",
      "\n",
      "\n",
      "R2 Score =  -7.348562592168761e-05\n",
      "\n",
      "\n",
      "Cross val score =  nan\n",
      "\n",
      "\n",
      "Mean Squared error\n",
      " 35977.18474175247\n",
      "\n",
      "\n",
      "Mean absolute error \n",
      "148.851299486204\n",
      "\n",
      "\n",
      "\n",
      "***************** DecisionTreeRegressor ******************\n",
      "\n",
      "DecisionTreeRegressor(ccp_alpha=0.0, criterion='mse', max_depth=None,\n",
      "                      max_features=None, max_leaf_nodes=None,\n",
      "                      min_impurity_decrease=0.0, min_impurity_split=None,\n",
      "                      min_samples_leaf=1, min_samples_split=2,\n",
      "                      min_weight_fraction_leaf=0.0, presort='deprecated',\n",
      "                      random_state=None, splitter='best')\n",
      "\n",
      "\n",
      "R2 Score =  -0.3192889768465246\n",
      "\n",
      "\n",
      "Cross val score =  nan\n",
      "\n",
      "\n",
      "Mean Squared error\n",
      " 47460.81556002683\n",
      "\n",
      "\n",
      "Mean absolute error \n",
      "150.73373574782025\n",
      "\n",
      "\n",
      "\n",
      "***************** RandomForestRegressor ******************\n",
      "\n",
      "RandomForestRegressor(bootstrap=True, ccp_alpha=0.0, criterion='mse',\n",
      "                      max_depth=None, max_features='auto', max_leaf_nodes=None,\n",
      "                      max_samples=None, min_impurity_decrease=0.0,\n",
      "                      min_impurity_split=None, min_samples_leaf=1,\n",
      "                      min_samples_split=2, min_weight_fraction_leaf=0.0,\n",
      "                      n_estimators=100, n_jobs=None, oob_score=False,\n",
      "                      random_state=None, verbose=0, warm_start=False)\n",
      "\n",
      "\n",
      "R2 Score =  0.2339568609140542\n",
      "\n",
      "\n",
      "Cross val score =  nan\n",
      "\n",
      "\n",
      "Mean Squared error\n",
      " 27558.050414463163\n",
      "\n",
      "\n",
      "Mean absolute error \n",
      "124.43559412027722\n",
      "\n",
      "\n",
      "\n",
      "***************** AdaBoostRegressor ******************\n",
      "\n",
      "AdaBoostRegressor(base_estimator=None, learning_rate=1.0, loss='linear',\n",
      "                  n_estimators=50, random_state=None)\n",
      "\n",
      "\n",
      "R2 Score =  0.10050907948365251\n",
      "\n",
      "\n",
      "Cross val score =  nan\n",
      "\n",
      "\n",
      "Mean Squared error\n",
      " 32358.773116249115\n",
      "\n",
      "\n",
      "Mean absolute error \n",
      "148.918868500477\n",
      "\n",
      "\n",
      "\n",
      "***************** GradientBoostingRegressor ******************\n",
      "\n",
      "GradientBoostingRegressor(alpha=0.9, ccp_alpha=0.0, criterion='friedman_mse',\n",
      "                          init=None, learning_rate=0.1, loss='ls', max_depth=3,\n",
      "                          max_features=None, max_leaf_nodes=None,\n",
      "                          min_impurity_decrease=0.0, min_impurity_split=None,\n",
      "                          min_samples_leaf=1, min_samples_split=2,\n",
      "                          min_weight_fraction_leaf=0.0, n_estimators=100,\n",
      "                          n_iter_no_change=None, presort='deprecated',\n",
      "                          random_state=None, subsample=1.0, tol=0.0001,\n",
      "                          validation_fraction=0.1, verbose=0, warm_start=False)\n",
      "\n",
      "\n",
      "R2 Score =  0.21516895911467182\n",
      "\n",
      "\n",
      "Cross val score =  nan\n",
      "\n",
      "\n",
      "Mean Squared error\n",
      " 28233.936560492955\n",
      "\n",
      "\n",
      "Mean absolute error \n",
      "132.16908744050528\n",
      "\n",
      "\n",
      "\n"
     ]
    }
   ],
   "source": [
    "Model = []\n",
    "score = []\n",
    "cvs = []\n",
    "MSE = []\n",
    "MAE = []\n",
    "for name,model in models:\n",
    "    print(\"*****************\",name,\"******************\\n\")\n",
    "    Model.append(name)\n",
    "    model.fit(merged_train,y_train)\n",
    "    print(model)\n",
    "    pre = model.predict(merged_cv)\n",
    "    print(\"\\n\")\n",
    "    R2 = r2_score(y_cv,pre)\n",
    "    print(\"R2 Score = \",R2)\n",
    "    score.append(R2)\n",
    "    print(\"\\n\")\n",
    "    sc = cross_val_score(model,X,y,cv=kf,scoring=\"r2\").mean()\n",
    "    print(\"Cross val score = \",sc)\n",
    "    cvs.append(sc)\n",
    "    print(\"\\n\")\n",
    "    mse = mean_squared_error(y_cv,pre)\n",
    "    print(\"Mean Squared error\\n\", mse)\n",
    "    MSE.append(mse)\n",
    "    print(\"\\n\")\n",
    "    mae = mean_absolute_error(y_cv,pre)\n",
    "    print(\"Mean absolute error \\n{}\".format(mae))\n",
    "    MAE.append(mae)\n",
    "    print(\"\\n\\n\")"
   ]
  },
  {
   "cell_type": "code",
   "execution_count": 50,
   "metadata": {},
   "outputs": [
    {
     "data": {
      "text/html": [
       "<div>\n",
       "<style scoped>\n",
       "    .dataframe tbody tr th:only-of-type {\n",
       "        vertical-align: middle;\n",
       "    }\n",
       "\n",
       "    .dataframe tbody tr th {\n",
       "        vertical-align: top;\n",
       "    }\n",
       "\n",
       "    .dataframe thead th {\n",
       "        text-align: right;\n",
       "    }\n",
       "</style>\n",
       "<table border=\"1\" class=\"dataframe\">\n",
       "  <thead>\n",
       "    <tr style=\"text-align: right;\">\n",
       "      <th></th>\n",
       "      <th>Model</th>\n",
       "      <th>R2 Socre</th>\n",
       "      <th>Cross val score</th>\n",
       "      <th>Mean Squared Error</th>\n",
       "      <th>Mean Absolute Error</th>\n",
       "    </tr>\n",
       "  </thead>\n",
       "  <tbody>\n",
       "    <tr>\n",
       "      <th>0</th>\n",
       "      <td>LinearRegression</td>\n",
       "      <td>-5.206012</td>\n",
       "      <td>NaN</td>\n",
       "      <td>223258.444503</td>\n",
       "      <td>315.167497</td>\n",
       "    </tr>\n",
       "    <tr>\n",
       "      <th>1</th>\n",
       "      <td>Ridge</td>\n",
       "      <td>0.211382</td>\n",
       "      <td>NaN</td>\n",
       "      <td>28370.176444</td>\n",
       "      <td>127.942260</td>\n",
       "    </tr>\n",
       "    <tr>\n",
       "      <th>2</th>\n",
       "      <td>Lasso</td>\n",
       "      <td>0.169179</td>\n",
       "      <td>NaN</td>\n",
       "      <td>29888.395703</td>\n",
       "      <td>136.579061</td>\n",
       "    </tr>\n",
       "    <tr>\n",
       "      <th>3</th>\n",
       "      <td>KNeighborsRegressor</td>\n",
       "      <td>0.063321</td>\n",
       "      <td>NaN</td>\n",
       "      <td>33696.584628</td>\n",
       "      <td>143.074715</td>\n",
       "    </tr>\n",
       "    <tr>\n",
       "      <th>4</th>\n",
       "      <td>SVR</td>\n",
       "      <td>-0.000073</td>\n",
       "      <td>NaN</td>\n",
       "      <td>35977.184742</td>\n",
       "      <td>148.851299</td>\n",
       "    </tr>\n",
       "    <tr>\n",
       "      <th>5</th>\n",
       "      <td>DecisionTreeRegressor</td>\n",
       "      <td>-0.319289</td>\n",
       "      <td>NaN</td>\n",
       "      <td>47460.815560</td>\n",
       "      <td>150.733736</td>\n",
       "    </tr>\n",
       "    <tr>\n",
       "      <th>6</th>\n",
       "      <td>RandomForestRegressor</td>\n",
       "      <td>0.233957</td>\n",
       "      <td>NaN</td>\n",
       "      <td>27558.050414</td>\n",
       "      <td>124.435594</td>\n",
       "    </tr>\n",
       "    <tr>\n",
       "      <th>7</th>\n",
       "      <td>AdaBoostRegressor</td>\n",
       "      <td>0.100509</td>\n",
       "      <td>NaN</td>\n",
       "      <td>32358.773116</td>\n",
       "      <td>148.918869</td>\n",
       "    </tr>\n",
       "    <tr>\n",
       "      <th>8</th>\n",
       "      <td>GradientBoostingRegressor</td>\n",
       "      <td>0.215169</td>\n",
       "      <td>NaN</td>\n",
       "      <td>28233.936560</td>\n",
       "      <td>132.169087</td>\n",
       "    </tr>\n",
       "  </tbody>\n",
       "</table>\n",
       "</div>"
      ],
      "text/plain": [
       "                       Model  R2 Socre  Cross val score  Mean Squared Error  \\\n",
       "0           LinearRegression -5.206012              NaN       223258.444503   \n",
       "1                      Ridge  0.211382              NaN        28370.176444   \n",
       "2                      Lasso  0.169179              NaN        29888.395703   \n",
       "3        KNeighborsRegressor  0.063321              NaN        33696.584628   \n",
       "4                        SVR -0.000073              NaN        35977.184742   \n",
       "5      DecisionTreeRegressor -0.319289              NaN        47460.815560   \n",
       "6      RandomForestRegressor  0.233957              NaN        27558.050414   \n",
       "7          AdaBoostRegressor  0.100509              NaN        32358.773116   \n",
       "8  GradientBoostingRegressor  0.215169              NaN        28233.936560   \n",
       "\n",
       "   Mean Absolute Error  \n",
       "0           315.167497  \n",
       "1           127.942260  \n",
       "2           136.579061  \n",
       "3           143.074715  \n",
       "4           148.851299  \n",
       "5           150.733736  \n",
       "6           124.435594  \n",
       "7           148.918869  \n",
       "8           132.169087  "
      ]
     },
     "execution_count": 50,
     "metadata": {},
     "output_type": "execute_result"
    }
   ],
   "source": [
    "result=pd.DataFrame({\"Model\": Model, \"R2 Socre\": score, \"Cross val score\": cvs, \"Mean Squared Error\": MSE, \"Mean Absolute Error\": MAE})\n",
    "result"
   ]
  },
  {
   "cell_type": "code",
   "execution_count": 51,
   "metadata": {},
   "outputs": [
    {
     "data": {
      "text/plain": [
       "['Doctor_Fees.pkl']"
      ]
     },
     "execution_count": 51,
     "metadata": {},
     "output_type": "execute_result"
    }
   ],
   "source": [
    "from sklearn.externals import joblib\n",
    "joblib.dump(RFC,'Doctor_Fees.pkl')"
   ]
  },
  {
   "cell_type": "code",
   "execution_count": null,
   "metadata": {},
   "outputs": [],
   "source": []
  },
  {
   "cell_type": "code",
   "execution_count": 53,
   "metadata": {},
   "outputs": [
    {
     "data": {
      "text/html": [
       "<div>\n",
       "<style scoped>\n",
       "    .dataframe tbody tr th:only-of-type {\n",
       "        vertical-align: middle;\n",
       "    }\n",
       "\n",
       "    .dataframe tbody tr th {\n",
       "        vertical-align: top;\n",
       "    }\n",
       "\n",
       "    .dataframe thead th {\n",
       "        text-align: right;\n",
       "    }\n",
       "</style>\n",
       "<table border=\"1\" class=\"dataframe\">\n",
       "  <thead>\n",
       "    <tr style=\"text-align: right;\">\n",
       "      <th></th>\n",
       "      <th>Qualification</th>\n",
       "      <th>Experience</th>\n",
       "      <th>Rating</th>\n",
       "      <th>Place</th>\n",
       "      <th>Profile</th>\n",
       "      <th>Miscellaneous_Info</th>\n",
       "    </tr>\n",
       "  </thead>\n",
       "  <tbody>\n",
       "    <tr>\n",
       "      <th>0</th>\n",
       "      <td>MBBS</td>\n",
       "      <td>35 years experience</td>\n",
       "      <td>NaN</td>\n",
       "      <td>Ghatkopar East, Mumbai</td>\n",
       "      <td>General Medicine</td>\n",
       "      <td>NaN</td>\n",
       "    </tr>\n",
       "    <tr>\n",
       "      <th>1</th>\n",
       "      <td>MBBS, Diploma in Otorhinolaryngology (DLO)</td>\n",
       "      <td>31 years experience</td>\n",
       "      <td>NaN</td>\n",
       "      <td>West Marredpally, Hyderabad</td>\n",
       "      <td>ENT Specialist</td>\n",
       "      <td>NaN</td>\n",
       "    </tr>\n",
       "    <tr>\n",
       "      <th>2</th>\n",
       "      <td>MBBS, DDVL</td>\n",
       "      <td>40 years experience</td>\n",
       "      <td>70%</td>\n",
       "      <td>KK Nagar, Chennai</td>\n",
       "      <td>Dermatologists</td>\n",
       "      <td>70% 4 Feedback KK Nagar, Chennai</td>\n",
       "    </tr>\n",
       "    <tr>\n",
       "      <th>3</th>\n",
       "      <td>BAMS</td>\n",
       "      <td>0 years experience</td>\n",
       "      <td>NaN</td>\n",
       "      <td>New Ashok Nagar, Delhi</td>\n",
       "      <td>Ayurveda</td>\n",
       "      <td>NaN</td>\n",
       "    </tr>\n",
       "    <tr>\n",
       "      <th>4</th>\n",
       "      <td>BDS, MDS - Conservative Dentistry &amp; Endodontics</td>\n",
       "      <td>16 years experience</td>\n",
       "      <td>100%</td>\n",
       "      <td>Kanakpura Road, Bangalore</td>\n",
       "      <td>Dentist</td>\n",
       "      <td>General Dentistry Conservative Dentistry Cosme...</td>\n",
       "    </tr>\n",
       "  </tbody>\n",
       "</table>\n",
       "</div>"
      ],
      "text/plain": [
       "                                     Qualification           Experience  \\\n",
       "0                                             MBBS  35 years experience   \n",
       "1       MBBS, Diploma in Otorhinolaryngology (DLO)  31 years experience   \n",
       "2                                       MBBS, DDVL  40 years experience   \n",
       "3                                             BAMS   0 years experience   \n",
       "4  BDS, MDS - Conservative Dentistry & Endodontics  16 years experience   \n",
       "\n",
       "  Rating                        Place           Profile  \\\n",
       "0    NaN       Ghatkopar East, Mumbai  General Medicine   \n",
       "1    NaN  West Marredpally, Hyderabad    ENT Specialist   \n",
       "2    70%            KK Nagar, Chennai    Dermatologists   \n",
       "3    NaN       New Ashok Nagar, Delhi          Ayurveda   \n",
       "4   100%    Kanakpura Road, Bangalore           Dentist   \n",
       "\n",
       "                                  Miscellaneous_Info  \n",
       "0                                                NaN  \n",
       "1                                                NaN  \n",
       "2                   70% 4 Feedback KK Nagar, Chennai  \n",
       "3                                                NaN  \n",
       "4  General Dentistry Conservative Dentistry Cosme...  "
      ]
     },
     "execution_count": 53,
     "metadata": {},
     "output_type": "execute_result"
    }
   ],
   "source": [
    "df_test = pd.read_csv(\"doctorfees_test.csv\")\n",
    "df_test.head()"
   ]
  },
  {
   "cell_type": "code",
   "execution_count": 54,
   "metadata": {},
   "outputs": [],
   "source": [
    "df_test['Experience'] = df_test['Experience'].str.replace('years experience','').astype(int)"
   ]
  },
  {
   "cell_type": "code",
   "execution_count": 55,
   "metadata": {},
   "outputs": [],
   "source": [
    "df_test['Qualification'] = df_test['Qualification'].apply(clean_text)\n",
    "df_test['Place'].fillna('missing', inplace=True)"
   ]
  },
  {
   "cell_type": "code",
   "execution_count": 56,
   "metadata": {},
   "outputs": [],
   "source": [
    "df_test['Place'] = df_test['Place'].apply(clean_place)"
   ]
  },
  {
   "cell_type": "code",
   "execution_count": 57,
   "metadata": {},
   "outputs": [],
   "source": [
    "df_test['Rating'].fillna('0%', inplace=True)"
   ]
  },
  {
   "cell_type": "code",
   "execution_count": 58,
   "metadata": {},
   "outputs": [],
   "source": [
    "df_test['Rating'] = df_test['Rating'].apply(clean_rating)\n",
    "df_test['Rating'] = df_test['Rating'].astype(int)"
   ]
  },
  {
   "cell_type": "code",
   "execution_count": 59,
   "metadata": {},
   "outputs": [],
   "source": [
    "df_test['Miscellaneous_Info'].fillna('missing', inplace=True)"
   ]
  },
  {
   "cell_type": "code",
   "execution_count": 60,
   "metadata": {},
   "outputs": [],
   "source": [
    "df_test['Feedback'] = df_test['Miscellaneous_Info'].apply(get_feedback)\n",
    "df_test['Feedback'] = df_test['Feedback'].str.replace(' Feedback','')\n",
    "df_test['Feedback'] = df_test['Feedback'].astype(int)"
   ]
  },
  {
   "cell_type": "code",
   "execution_count": 62,
   "metadata": {},
   "outputs": [],
   "source": [
    "df_test['Miscellaneous_Info'] = df_test['Miscellaneous_Info'].apply(clean_misc)"
   ]
  },
  {
   "cell_type": "code",
   "execution_count": 63,
   "metadata": {},
   "outputs": [],
   "source": [
    "df_test=pd.get_dummies(df_test,  columns=['Profile'])"
   ]
  },
  {
   "cell_type": "code",
   "execution_count": 64,
   "metadata": {},
   "outputs": [
    {
     "data": {
      "text/html": [
       "<div>\n",
       "<style scoped>\n",
       "    .dataframe tbody tr th:only-of-type {\n",
       "        vertical-align: middle;\n",
       "    }\n",
       "\n",
       "    .dataframe tbody tr th {\n",
       "        vertical-align: top;\n",
       "    }\n",
       "\n",
       "    .dataframe thead th {\n",
       "        text-align: right;\n",
       "    }\n",
       "</style>\n",
       "<table border=\"1\" class=\"dataframe\">\n",
       "  <thead>\n",
       "    <tr style=\"text-align: right;\">\n",
       "      <th></th>\n",
       "      <th>Qualification</th>\n",
       "      <th>Experience</th>\n",
       "      <th>Rating</th>\n",
       "      <th>Place</th>\n",
       "      <th>Miscellaneous_Info</th>\n",
       "      <th>Feedback</th>\n",
       "      <th>Misc_Fees</th>\n",
       "      <th>Profile_Ayurveda</th>\n",
       "      <th>Profile_Dentist</th>\n",
       "      <th>Profile_Dermatologists</th>\n",
       "      <th>Profile_ENT Specialist</th>\n",
       "      <th>Profile_General Medicine</th>\n",
       "      <th>Profile_Homeopath</th>\n",
       "    </tr>\n",
       "  </thead>\n",
       "  <tbody>\n",
       "    <tr>\n",
       "      <th>0</th>\n",
       "      <td>mbbs</td>\n",
       "      <td>35</td>\n",
       "      <td>0</td>\n",
       "      <td>ghatkopar east mumbai</td>\n",
       "      <td>missing</td>\n",
       "      <td>0</td>\n",
       "      <td>0</td>\n",
       "      <td>0</td>\n",
       "      <td>0</td>\n",
       "      <td>0</td>\n",
       "      <td>0</td>\n",
       "      <td>1</td>\n",
       "      <td>0</td>\n",
       "    </tr>\n",
       "    <tr>\n",
       "      <th>1</th>\n",
       "      <td>mbbs diploma in otorhinolaryngology dlo</td>\n",
       "      <td>31</td>\n",
       "      <td>0</td>\n",
       "      <td>west marredpally hyderabad</td>\n",
       "      <td>missing</td>\n",
       "      <td>0</td>\n",
       "      <td>0</td>\n",
       "      <td>0</td>\n",
       "      <td>0</td>\n",
       "      <td>0</td>\n",
       "      <td>1</td>\n",
       "      <td>0</td>\n",
       "      <td>0</td>\n",
       "    </tr>\n",
       "    <tr>\n",
       "      <th>2</th>\n",
       "      <td>mbbs ddvl</td>\n",
       "      <td>40</td>\n",
       "      <td>70</td>\n",
       "      <td>kk nagar chennai</td>\n",
       "      <td>70 4 feedback kk nagar chennai</td>\n",
       "      <td>4</td>\n",
       "      <td>0</td>\n",
       "      <td>0</td>\n",
       "      <td>0</td>\n",
       "      <td>1</td>\n",
       "      <td>0</td>\n",
       "      <td>0</td>\n",
       "      <td>0</td>\n",
       "    </tr>\n",
       "    <tr>\n",
       "      <th>3</th>\n",
       "      <td>bams</td>\n",
       "      <td>0</td>\n",
       "      <td>0</td>\n",
       "      <td>new ashok nagar delhi</td>\n",
       "      <td>missing</td>\n",
       "      <td>0</td>\n",
       "      <td>0</td>\n",
       "      <td>1</td>\n",
       "      <td>0</td>\n",
       "      <td>0</td>\n",
       "      <td>0</td>\n",
       "      <td>0</td>\n",
       "      <td>0</td>\n",
       "    </tr>\n",
       "    <tr>\n",
       "      <th>4</th>\n",
       "      <td>bds mds conservative dentistry endodontics</td>\n",
       "      <td>16</td>\n",
       "      <td>100</td>\n",
       "      <td>kanakpura road bangalore</td>\n",
       "      <td>general dentistry conservative dentistry cosme...</td>\n",
       "      <td>0</td>\n",
       "      <td>0</td>\n",
       "      <td>0</td>\n",
       "      <td>1</td>\n",
       "      <td>0</td>\n",
       "      <td>0</td>\n",
       "      <td>0</td>\n",
       "      <td>0</td>\n",
       "    </tr>\n",
       "  </tbody>\n",
       "</table>\n",
       "</div>"
      ],
      "text/plain": [
       "                                Qualification  Experience  Rating  \\\n",
       "0                                        mbbs          35       0   \n",
       "1    mbbs diploma in otorhinolaryngology dlo           31       0   \n",
       "2                                   mbbs ddvl          40      70   \n",
       "3                                        bams           0       0   \n",
       "4  bds mds conservative dentistry endodontics          16     100   \n",
       "\n",
       "                        Place  \\\n",
       "0       ghatkopar east mumbai   \n",
       "1  west marredpally hyderabad   \n",
       "2            kk nagar chennai   \n",
       "3       new ashok nagar delhi   \n",
       "4    kanakpura road bangalore   \n",
       "\n",
       "                                  Miscellaneous_Info  Feedback  Misc_Fees  \\\n",
       "0                                            missing         0          0   \n",
       "1                                            missing         0          0   \n",
       "2                     70 4 feedback kk nagar chennai         4          0   \n",
       "3                                            missing         0          0   \n",
       "4  general dentistry conservative dentistry cosme...         0          0   \n",
       "\n",
       "   Profile_Ayurveda  Profile_Dentist  Profile_Dermatologists  \\\n",
       "0                 0                0                       0   \n",
       "1                 0                0                       0   \n",
       "2                 0                0                       1   \n",
       "3                 1                0                       0   \n",
       "4                 0                1                       0   \n",
       "\n",
       "   Profile_ENT Specialist  Profile_General Medicine  Profile_Homeopath  \n",
       "0                       0                         1                  0  \n",
       "1                       1                         0                  0  \n",
       "2                       0                         0                  0  \n",
       "3                       0                         0                  0  \n",
       "4                       0                         0                  0  "
      ]
     },
     "execution_count": 64,
     "metadata": {},
     "output_type": "execute_result"
    }
   ],
   "source": [
    "df_test.head()"
   ]
  },
  {
   "cell_type": "code",
   "execution_count": 65,
   "metadata": {},
   "outputs": [],
   "source": [
    "X_train = df.drop(labels='Fees', axis=1)\n",
    "y_train = df['Fees'].values\n",
    "X_test = df_test"
   ]
  },
  {
   "cell_type": "code",
   "execution_count": 66,
   "metadata": {},
   "outputs": [],
   "source": [
    "X_train_qual = X_train['Qualification']\n",
    "X_test_qual = X_test['Qualification']\n",
    "\n",
    "X_train_place = X_train['Place']\n",
    "X_test_place = X_test['Place']\n",
    "\n",
    "X_train_misc = X_train['Miscellaneous_Info']\n",
    "X_test_misc = X_test['Miscellaneous_Info']"
   ]
  },
  {
   "cell_type": "code",
   "execution_count": 67,
   "metadata": {},
   "outputs": [],
   "source": [
    "tf1 = TfidfVectorizer(ngram_range=(1,2), binary=True, token_pattern=r'\\w{3,}')\n",
    "X_train_qual = tf1.fit_transform(X_train_qual)\n",
    "X_test_qual = tf1.transform(X_test_qual)\n",
    "\n",
    "tf3 = TfidfVectorizer()\n",
    "X_train_place = tf3.fit_transform(X_train_place)\n",
    "X_test_place = tf3.transform(X_test_place)\n",
    "\n",
    "tf4 = TfidfVectorizer(token_pattern=r'\\w{1,}', ngram_range=(1,2))\n",
    "X_train_misc = tf4.fit_transform(X_train_misc)\n",
    "X_test_misc = tf4.transform(X_test_misc)"
   ]
  },
  {
   "cell_type": "code",
   "execution_count": 68,
   "metadata": {},
   "outputs": [],
   "source": [
    "X_train_exp = np.array(X_train['Experience']).reshape(-1,1)\n",
    "X_test_exp = np.array(X_test['Experience']).reshape(-1,1)\n",
    "\n",
    "X_train_feedback = np.array(X_train['Feedback']).reshape(-1,1)\n",
    "X_test_feedback = np.array(X_test['Feedback']).reshape(-1,1)\n",
    "\n",
    "X_train_rating = np.array(X_train['Rating']).reshape(-1,1)\n",
    "X_test_rating = np.array(X_test['Rating']).reshape(-1,1)\n",
    "\n",
    "cols = ['Profile_Dentist', 'Profile_Dermatologists', 'Profile_ENT Specialist', 'Profile_General Medicine',\n",
    "       'Profile_Homeopath']\n",
    "X_train_prof = X_train[cols]\n",
    "X_test_prof = X_test[cols]\n",
    "\n",
    "X_train_miscfees = np.array(X_train['Misc_Fees']).reshape(-1,1)\n",
    "X_test_miscfees = np.array(X_test['Misc_Fees']).reshape(-1,1)"
   ]
  },
  {
   "cell_type": "code",
   "execution_count": 69,
   "metadata": {},
   "outputs": [],
   "source": [
    "from scipy.sparse import hstack\n",
    "merged_train = hstack((X_train_exp, X_train_qual, X_train_prof, X_train_place, X_train_rating, X_train_misc, X_train_miscfees))\n",
    "merged_test  = hstack((X_test_exp, X_test_qual, X_test_prof, X_test_place, X_test_rating, X_test_misc, X_test_miscfees))"
   ]
  },
  {
   "cell_type": "code",
   "execution_count": 70,
   "metadata": {},
   "outputs": [
    {
     "data": {
      "text/plain": [
       "((5961, 9982), (1987, 9982))"
      ]
     },
     "execution_count": 70,
     "metadata": {},
     "output_type": "execute_result"
    }
   ],
   "source": [
    "merged_train.shape, merged_test.shape"
   ]
  },
  {
   "cell_type": "code",
   "execution_count": 71,
   "metadata": {},
   "outputs": [
    {
     "data": {
      "text/plain": [
       "<5961x9982 sparse matrix of type '<class 'numpy.float64'>'\n",
       "\twith 105440 stored elements in COOrdinate format>"
      ]
     },
     "execution_count": 71,
     "metadata": {},
     "output_type": "execute_result"
    }
   ],
   "source": [
    "merged_train"
   ]
  },
  {
   "cell_type": "code",
   "execution_count": 72,
   "metadata": {},
   "outputs": [
    {
     "data": {
      "text/plain": [
       "<1987x9982 sparse matrix of type '<class 'numpy.float64'>'\n",
       "\twith 34271 stored elements in COOrdinate format>"
      ]
     },
     "execution_count": 72,
     "metadata": {},
     "output_type": "execute_result"
    }
   ],
   "source": [
    "merged_test"
   ]
  },
  {
   "cell_type": "code",
   "execution_count": null,
   "metadata": {},
   "outputs": [],
   "source": []
  },
  {
   "cell_type": "code",
   "execution_count": null,
   "metadata": {},
   "outputs": [],
   "source": []
  }
 ],
 "metadata": {
  "kernelspec": {
   "display_name": "Python 3",
   "language": "python",
   "name": "python3"
  },
  "language_info": {
   "codemirror_mode": {
    "name": "ipython",
    "version": 3
   },
   "file_extension": ".py",
   "mimetype": "text/x-python",
   "name": "python",
   "nbconvert_exporter": "python",
   "pygments_lexer": "ipython3",
   "version": "3.7.6"
  }
 },
 "nbformat": 4,
 "nbformat_minor": 4
}
